{
 "cells": [
  {
   "cell_type": "code",
   "execution_count": 1,
   "metadata": {},
   "outputs": [
    {
     "name": "stderr",
     "output_type": "stream",
     "text": [
      "Using TensorFlow backend.\n"
     ]
    }
   ],
   "source": [
    "from keras import layers, models\n",
    "from keras.applications import VGG16\n",
    "%matplotlib inline"
   ]
  },
  {
   "cell_type": "code",
   "execution_count": 2,
   "metadata": {},
   "outputs": [],
   "source": [
    "sample_path = './data/sample'\n",
    "train_path = './data/train'\n",
    "validation_path = './data/validation'\n",
    "test_path = './data/test'\n",
    "# dimensions of our images.\n",
    "img_width, img_height = 150, 150\n",
    "target_size = (img_width, img_width)\n",
    "input_shape = (img_width, img_width, 3)\n",
    "\n",
    "nb_train_samples = 2000\n",
    "nb_validation_samples = 800\n",
    "epochs = 50\n",
    "batch_size = 16"
   ]
  },
  {
   "cell_type": "code",
   "execution_count": 3,
   "metadata": {},
   "outputs": [],
   "source": [
    "conv_base = VGG16(weights='imagenet',\n",
    "                  include_top=False,\n",
    "                  input_shape=(150, 150, 3))"
   ]
  },
  {
   "cell_type": "code",
   "execution_count": 4,
   "metadata": {
    "collapsed": true
   },
   "outputs": [
    {
     "name": "stdout",
     "output_type": "stream",
     "text": [
      "_________________________________________________________________\n",
      "Layer (type)                 Output Shape              Param #   \n",
      "=================================================================\n",
      "input_1 (InputLayer)         (None, 150, 150, 3)       0         \n",
      "_________________________________________________________________\n",
      "block1_conv1 (Conv2D)        (None, 150, 150, 64)      1792      \n",
      "_________________________________________________________________\n",
      "block1_conv2 (Conv2D)        (None, 150, 150, 64)      36928     \n",
      "_________________________________________________________________\n",
      "block1_pool (MaxPooling2D)   (None, 75, 75, 64)        0         \n",
      "_________________________________________________________________\n",
      "block2_conv1 (Conv2D)        (None, 75, 75, 128)       73856     \n",
      "_________________________________________________________________\n",
      "block2_conv2 (Conv2D)        (None, 75, 75, 128)       147584    \n",
      "_________________________________________________________________\n",
      "block2_pool (MaxPooling2D)   (None, 37, 37, 128)       0         \n",
      "_________________________________________________________________\n",
      "block3_conv1 (Conv2D)        (None, 37, 37, 256)       295168    \n",
      "_________________________________________________________________\n",
      "block3_conv2 (Conv2D)        (None, 37, 37, 256)       590080    \n",
      "_________________________________________________________________\n",
      "block3_conv3 (Conv2D)        (None, 37, 37, 256)       590080    \n",
      "_________________________________________________________________\n",
      "block3_pool (MaxPooling2D)   (None, 18, 18, 256)       0         \n",
      "_________________________________________________________________\n",
      "block4_conv1 (Conv2D)        (None, 18, 18, 512)       1180160   \n",
      "_________________________________________________________________\n",
      "block4_conv2 (Conv2D)        (None, 18, 18, 512)       2359808   \n",
      "_________________________________________________________________\n",
      "block4_conv3 (Conv2D)        (None, 18, 18, 512)       2359808   \n",
      "_________________________________________________________________\n",
      "block4_pool (MaxPooling2D)   (None, 9, 9, 512)         0         \n",
      "_________________________________________________________________\n",
      "block5_conv1 (Conv2D)        (None, 9, 9, 512)         2359808   \n",
      "_________________________________________________________________\n",
      "block5_conv2 (Conv2D)        (None, 9, 9, 512)         2359808   \n",
      "_________________________________________________________________\n",
      "block5_conv3 (Conv2D)        (None, 9, 9, 512)         2359808   \n",
      "_________________________________________________________________\n",
      "block5_pool (MaxPooling2D)   (None, 4, 4, 512)         0         \n",
      "=================================================================\n",
      "Total params: 14,714,688\n",
      "Trainable params: 14,714,688\n",
      "Non-trainable params: 0\n",
      "_________________________________________________________________\n"
     ]
    }
   ],
   "source": [
    "conv_base.summary()"
   ]
  },
  {
   "cell_type": "code",
   "execution_count": 6,
   "metadata": {},
   "outputs": [
    {
     "name": "stdout",
     "output_type": "stream",
     "text": [
      "Found 15556 images belonging to 2 classes.\n",
      "Found 7222 images belonging to 2 classes.\n",
      "Found 2222 images belonging to 2 classes.\n"
     ]
    }
   ],
   "source": [
    "import numpy as np\n",
    "from keras.preprocessing.image import ImageDataGenerator\n",
    "# base_dir = '/Users/fchollet/Downloads/cats_and_dogs_small'\n",
    "train_dir = train_path\n",
    "validation_dir = validation_path\n",
    "test_dir = test_path\n",
    "datagen = ImageDataGenerator(rescale=1./255)\n",
    "batch_size = 20\n",
    "\n",
    "def extract_features(directory, sample_count):\n",
    "    features = np.zeros(shape=(sample_count, 4, 4, 512))\n",
    "    labels = np.zeros(shape=(sample_count))\n",
    "    generator = datagen.flow_from_directory(\n",
    "    directory,\n",
    "    target_size=(150, 150),\n",
    "    batch_size=batch_size,\n",
    "    class_mode='binary')\n",
    "    i = 0\n",
    "    for inputs_batch, labels_batch in generator:\n",
    "        features_batch = conv_base.predict(inputs_batch)\n",
    "        features[i * batch_size : (i + 1) * batch_size] = features_batch\n",
    "        labels[i * batch_size : (i + 1) * batch_size] = labels_batch\n",
    "        i += 1\n",
    "        if i * batch_size >= sample_count:\n",
    "            break\n",
    "    return features, labels\n",
    "\n",
    "train_features, train_labels = extract_features(train_dir, 7778*2)\n",
    "validation_features, validation_labels = extract_features(validation_dir, 7222)\n",
    "test_features, test_labels = extract_features(test_dir, 1111*2)"
   ]
  },
  {
   "cell_type": "code",
   "execution_count": 8,
   "metadata": {},
   "outputs": [],
   "source": [
    "train_features = np.reshape(train_features, (15556, 4 * 4 * 512))\n",
    "validation_features = np.reshape(validation_features, (7222, 4 * 4 * 512))\n",
    "test_features = np.reshape(test_features, (2222, 4 * 4 * 512))"
   ]
  },
  {
   "cell_type": "code",
   "execution_count": 9,
   "metadata": {},
   "outputs": [
    {
     "name": "stdout",
     "output_type": "stream",
     "text": [
      "Train on 15556 samples, validate on 7222 samples\n",
      "Epoch 1/30\n",
      "15556/15556 [==============================] - 5s - loss: 0.3814 - acc: 0.8228 - val_loss: 0.2714 - val_acc: 0.8862\n",
      "Epoch 2/30\n",
      "15556/15556 [==============================] - 4s - loss: 0.2714 - acc: 0.8835 - val_loss: 0.2430 - val_acc: 0.8963\n",
      "Epoch 3/30\n",
      "15556/15556 [==============================] - 4s - loss: 0.2432 - acc: 0.8963 - val_loss: 0.2320 - val_acc: 0.9034\n",
      "Epoch 4/30\n",
      "15556/15556 [==============================] - 4s - loss: 0.2224 - acc: 0.9080 - val_loss: 0.2252 - val_acc: 0.9070\n",
      "Epoch 5/30\n",
      "15556/15556 [==============================] - 4s - loss: 0.2123 - acc: 0.9117 - val_loss: 0.2214 - val_acc: 0.9101\n",
      "Epoch 6/30\n",
      "15556/15556 [==============================] - 4s - loss: 0.2022 - acc: 0.9161 - val_loss: 0.2191 - val_acc: 0.9115\n",
      "Epoch 7/30\n",
      "15556/15556 [==============================] - 4s - loss: 0.1962 - acc: 0.9194 - val_loss: 0.2168 - val_acc: 0.9117\n",
      "Epoch 8/30\n",
      "15556/15556 [==============================] - 4s - loss: 0.1857 - acc: 0.9229 - val_loss: 0.2173 - val_acc: 0.9137\n",
      "Epoch 9/30\n",
      "15556/15556 [==============================] - 4s - loss: 0.1815 - acc: 0.9268 - val_loss: 0.2245 - val_acc: 0.9081\n",
      "Epoch 10/30\n",
      "15556/15556 [==============================] - 4s - loss: 0.1758 - acc: 0.9297 - val_loss: 0.2187 - val_acc: 0.9129\n",
      "Epoch 11/30\n",
      "15556/15556 [==============================] - 4s - loss: 0.1713 - acc: 0.9328 - val_loss: 0.2175 - val_acc: 0.9129\n",
      "Epoch 12/30\n",
      "15556/15556 [==============================] - 4s - loss: 0.1676 - acc: 0.9334 - val_loss: 0.2170 - val_acc: 0.9155\n",
      "Epoch 13/30\n",
      "15556/15556 [==============================] - 4s - loss: 0.1609 - acc: 0.9363 - val_loss: 0.2190 - val_acc: 0.9136\n",
      "Epoch 14/30\n",
      "15556/15556 [==============================] - 4s - loss: 0.1573 - acc: 0.9377 - val_loss: 0.2194 - val_acc: 0.9135\n",
      "Epoch 15/30\n",
      "15556/15556 [==============================] - 4s - loss: 0.1525 - acc: 0.9408 - val_loss: 0.2239 - val_acc: 0.9151\n",
      "Epoch 16/30\n",
      "15556/15556 [==============================] - 4s - loss: 0.1527 - acc: 0.9420 - val_loss: 0.2207 - val_acc: 0.9137\n",
      "Epoch 17/30\n",
      "15556/15556 [==============================] - 4s - loss: 0.1485 - acc: 0.9461 - val_loss: 0.2265 - val_acc: 0.9129\n",
      "Epoch 18/30\n",
      "15556/15556 [==============================] - 4s - loss: 0.1440 - acc: 0.9473 - val_loss: 0.2257 - val_acc: 0.9132\n",
      "Epoch 19/30\n",
      "15556/15556 [==============================] - 4s - loss: 0.1413 - acc: 0.9488 - val_loss: 0.2277 - val_acc: 0.9137\n",
      "Epoch 20/30\n",
      "15556/15556 [==============================] - 4s - loss: 0.1389 - acc: 0.9492 - val_loss: 0.2261 - val_acc: 0.9129\n",
      "Epoch 21/30\n",
      "15556/15556 [==============================] - 4s - loss: 0.1362 - acc: 0.9519 - val_loss: 0.2306 - val_acc: 0.9144\n",
      "Epoch 22/30\n",
      "15556/15556 [==============================] - 4s - loss: 0.1344 - acc: 0.9520 - val_loss: 0.2311 - val_acc: 0.9126\n",
      "Epoch 23/30\n",
      "15556/15556 [==============================] - 4s - loss: 0.1318 - acc: 0.9516 - val_loss: 0.2294 - val_acc: 0.9137\n",
      "Epoch 24/30\n",
      "15556/15556 [==============================] - 4s - loss: 0.1265 - acc: 0.9544 - val_loss: 0.2326 - val_acc: 0.9137\n",
      "Epoch 25/30\n",
      "15556/15556 [==============================] - 4s - loss: 0.1255 - acc: 0.9556 - val_loss: 0.2355 - val_acc: 0.9132\n",
      "Epoch 26/30\n",
      "15556/15556 [==============================] - 4s - loss: 0.1219 - acc: 0.9560 - val_loss: 0.2386 - val_acc: 0.9142\n",
      "Epoch 27/30\n",
      "15556/15556 [==============================] - 4s - loss: 0.1200 - acc: 0.9583 - val_loss: 0.2421 - val_acc: 0.9140\n",
      "Epoch 28/30\n",
      "15556/15556 [==============================] - 4s - loss: 0.1162 - acc: 0.9599 - val_loss: 0.2446 - val_acc: 0.9124\n",
      "Epoch 29/30\n",
      "15556/15556 [==============================] - 4s - loss: 0.1133 - acc: 0.9614 - val_loss: 0.2462 - val_acc: 0.9137\n",
      "Epoch 30/30\n",
      "15556/15556 [==============================] - 4s - loss: 0.1125 - acc: 0.9615 - val_loss: 0.2427 - val_acc: 0.9125\n"
     ]
    }
   ],
   "source": [
    "from keras import models\n",
    "from keras import layers\n",
    "from keras import optimizers\n",
    "model = models.Sequential()\n",
    "model.add(layers.Dense(256, activation='relu', input_dim=4 * 4 * 512))\n",
    "model.add(layers.Dropout(0.5))\n",
    "model.add(layers.Dense(1, activation='sigmoid'))\n",
    "model.compile(optimizer=optimizers.RMSprop(lr=2e-5),\n",
    "                loss='binary_crossentropy',\n",
    "                metrics=['acc'])\n",
    "history = model.fit(train_features, train_labels,\n",
    "                epochs=30,\n",
    "                batch_size=20,\n",
    "                validation_data=(validation_features, validation_labels))"
   ]
  },
  {
   "cell_type": "code",
   "execution_count": 10,
   "metadata": {},
   "outputs": [
    {
     "data": {
      "image/png": "[encoded data removed]",
      "text/plain": [
       "<matplotlib.figure.Figure at 0x7fc75900da58>"
      ]
     },
     "metadata": {},
     "output_type": "display_data"
    },
    {
     "data": {
      "image/png": "[encoded data removed]",
      "text/plain": [
       "<matplotlib.figure.Figure at 0x7fc758fe14a8>"
      ]
     },
     "metadata": {},
     "output_type": "display_data"
    }
   ],
   "source": [
    "import matplotlib.pyplot as plt\n",
    "acc = history.history['acc']\n",
    "val_acc = history.history['val_acc']\n",
    "loss = history.history['loss']\n",
    "val_loss = history.history['val_loss']\n",
    "epochs = range(1, len(acc) + 1)\n",
    "plt.plot(epochs, acc, 'bo', label='Training acc')\n",
    "plt.plot(epochs, val_acc, 'b', label='Validation acc')\n",
    "plt.title('Training and validation accuracy')\n",
    "plt.legend()\n",
    "plt.figure()\n",
    "plt.plot(epochs, loss, 'bo', label='Training loss')\n",
    "plt.plot(epochs, val_loss, 'b', label='Validation loss')\n",
    "plt.title('Training and validation loss')\n",
    "plt.legend()\n",
    "plt.show()"
   ]
  },
  {
   "cell_type": "code",
   "execution_count": null,
   "metadata": {},
   "outputs": [],
   "source": []
  }
 ],
 "metadata": {
  "kernelspec": {
   "display_name": "Python 3",
   "language": "python",
   "name": "python3"
  },
  "language_info": {
   "codemirror_mode": {
    "name": "ipython",
    "version": 3
   },
   "file_extension": ".py",
   "mimetype": "text/x-python",
   "name": "python",
   "nbconvert_exporter": "python",
   "pygments_lexer": "ipython3",
   "version": "3.5.2"
  }
 },
 "nbformat": 4,
 "nbformat_minor": 2
}
