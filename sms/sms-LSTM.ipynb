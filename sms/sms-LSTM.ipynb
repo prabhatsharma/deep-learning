{
 "cells": [
  {
   "cell_type": "markdown",
   "metadata": {},
   "source": [
    "# kaggle sms competition\n",
    "https://www.kaggle.com/uciml/sms-spam-collection-dataset"
   ]
  },
  {
   "cell_type": "code",
   "execution_count": 1,
   "metadata": {},
   "outputs": [
    {
     "name": "stderr",
     "output_type": "stream",
     "text": [
      "Using TensorFlow backend.\n"
     ]
    }
   ],
   "source": [
    "# LSTM with dropout for sequence classification \n",
    "import numpy\n",
    "from keras.models import Sequential\n",
    "from keras.layers import Dense, Activation, SpatialDropout1D, Dropout\n",
    "from keras.layers import LSTM\n",
    "from keras.preprocessing import sequence,text\n",
    "from keras.layers.embeddings import Embedding\n",
    "import pandas as pd\n",
    "%matplotlib inline"
   ]
  },
  {
   "cell_type": "code",
   "execution_count": 2,
   "metadata": {},
   "outputs": [],
   "source": [
    "# read data from tsv file\n",
    "df = pd.read_csv('SMSSpamCollection', delimiter='\\t', header=None, names=['label', 'message'])"
   ]
  },
  {
   "cell_type": "code",
   "execution_count": 3,
   "metadata": {},
   "outputs": [],
   "source": [
    "#transform label ham, spam => 0, 1\n",
    "df['label_num'] = df['label'].map({'ham': 0, 'spam': 1})"
   ]
  },
  {
   "cell_type": "code",
   "execution_count": 4,
   "metadata": {},
   "outputs": [],
   "source": [
    "# Add a new column message-length\n",
    "df['length'] = df['message'].apply(len)"
   ]
  },
  {
   "cell_type": "markdown",
   "metadata": {},
   "source": [
    "Let's  take a look at the data now"
   ]
  },
  {
   "cell_type": "code",
   "execution_count": 5,
   "metadata": {},
   "outputs": [
    {
     "data": {
      "text/html": [
       "<div>\n",
       "<style>\n",
       "    .dataframe thead tr:only-child th {\n",
       "        text-align: right;\n",
       "    }\n",
       "\n",
       "    .dataframe thead th {\n",
       "        text-align: left;\n",
       "    }\n",
       "\n",
       "    .dataframe tbody tr th {\n",
       "        vertical-align: top;\n",
       "    }\n",
       "</style>\n",
       "<table border=\"1\" class=\"dataframe\">\n",
       "  <thead>\n",
       "    <tr style=\"text-align: right;\">\n",
       "      <th></th>\n",
       "      <th>label</th>\n",
       "      <th>message</th>\n",
       "      <th>label_num</th>\n",
       "      <th>length</th>\n",
       "    </tr>\n",
       "  </thead>\n",
       "  <tbody>\n",
       "    <tr>\n",
       "      <th>0</th>\n",
       "      <td>ham</td>\n",
       "      <td>Go until jurong point, crazy.. Available only ...</td>\n",
       "      <td>0</td>\n",
       "      <td>111</td>\n",
       "    </tr>\n",
       "    <tr>\n",
       "      <th>1</th>\n",
       "      <td>ham</td>\n",
       "      <td>Ok lar... Joking wif u oni...</td>\n",
       "      <td>0</td>\n",
       "      <td>29</td>\n",
       "    </tr>\n",
       "    <tr>\n",
       "      <th>2</th>\n",
       "      <td>spam</td>\n",
       "      <td>Free entry in 2 a wkly comp to win FA Cup fina...</td>\n",
       "      <td>1</td>\n",
       "      <td>155</td>\n",
       "    </tr>\n",
       "    <tr>\n",
       "      <th>3</th>\n",
       "      <td>ham</td>\n",
       "      <td>U dun say so early hor... U c already then say...</td>\n",
       "      <td>0</td>\n",
       "      <td>49</td>\n",
       "    </tr>\n",
       "    <tr>\n",
       "      <th>4</th>\n",
       "      <td>ham</td>\n",
       "      <td>Nah I don't think he goes to usf, he lives aro...</td>\n",
       "      <td>0</td>\n",
       "      <td>61</td>\n",
       "    </tr>\n",
       "  </tbody>\n",
       "</table>\n",
       "</div>"
      ],
      "text/plain": [
       "  label                                            message  label_num  length\n",
       "0   ham  Go until jurong point, crazy.. Available only ...          0     111\n",
       "1   ham                      Ok lar... Joking wif u oni...          0      29\n",
       "2  spam  Free entry in 2 a wkly comp to win FA Cup fina...          1     155\n",
       "3   ham  U dun say so early hor... U c already then say...          0      49\n",
       "4   ham  Nah I don't think he goes to usf, he lives aro...          0      61"
      ]
     },
     "execution_count": 5,
     "metadata": {},
     "output_type": "execute_result"
    }
   ],
   "source": [
    "df.head()"
   ]
  },
  {
   "cell_type": "markdown",
   "metadata": {},
   "source": [
    "Let's try to figure, how length of the sms affects correlates to spam/ham"
   ]
  },
  {
   "cell_type": "code",
   "execution_count": 6,
   "metadata": {},
   "outputs": [
    {
     "data": {
      "text/plain": [
       "array([<matplotlib.axes._subplots.AxesSubplot object at 0x7f4ab0c907f0>,\n",
       "       <matplotlib.axes._subplots.AxesSubplot object at 0x7f4ab0c60198>], dtype=object)"
      ]
     },
     "execution_count": 6,
     "metadata": {},
     "output_type": "execute_result"
    },
    {
     "data": {
      "image/png": "[encoded data removed]",
      "text/plain": [
       "<matplotlib.figure.Figure at 0x7f4ab0c90128>"
      ]
     },
     "metadata": {},
     "output_type": "display_data"
    }
   ],
   "source": [
    "df.hist(column = 'length', by='label', bins=40, figsize=(20,5))"
   ]
  },
  {
   "cell_type": "markdown",
   "metadata": {},
   "source": [
    "From the above graoh we see that spam messages are generally longer than ham messages. max length of majority of messages is 200"
   ]
  },
  {
   "cell_type": "code",
   "execution_count": 7,
   "metadata": {},
   "outputs": [],
   "source": [
    "X = df['message']\n",
    "Y = df['label_num']"
   ]
  },
  {
   "cell_type": "markdown",
   "metadata": {},
   "source": [
    "Let's convert text to sequence for further processing"
   ]
  },
  {
   "cell_type": "code",
   "execution_count": 8,
   "metadata": {},
   "outputs": [],
   "source": [
    "tk = text.Tokenizer(lower=True)\n",
    "\n",
    "# train the tokenizer on the sms data that we have\n",
    "tk.fit_on_texts(X)\n",
    "\n",
    "# convert text to sequence using the training done in previous step \n",
    "x = tk.texts_to_sequences(X)\n",
    "\n",
    "max_len = 200\n",
    "\n",
    "# make the items in the sequence of same size of max_len so that we can process them\n",
    "x = sequence.pad_sequences(x, maxlen=max_len)"
   ]
  },
  {
   "cell_type": "code",
   "execution_count": 24,
   "metadata": {},
   "outputs": [],
   "source": [
    "max_features = 200\n",
    "model = Sequential()\n",
    "model.add(Embedding(max_features, 128, input_length=max_len))\n",
    "model.add(SpatialDropout1D(rate=0.2))\n",
    "# model.add(Dropout(0.5))\n",
    "model.add(LSTM(128, dropout=0.2))\n",
    "model.add(Dense(1, activation='sigmoid'))"
   ]
  },
  {
   "cell_type": "code",
   "execution_count": 25,
   "metadata": {},
   "outputs": [],
   "source": [
    "model.compile(loss='binary_crossentropy', optimizer='rmsprop', metrics=['accuracy'])"
   ]
  },
  {
   "cell_type": "code",
   "execution_count": 26,
   "metadata": {},
   "outputs": [
    {
     "name": "stdout",
     "output_type": "stream",
     "text": [
      "Train on 4457 samples, validate on 1115 samples\n",
      "Epoch 1/6\n",
      "4457/4457 [==============================] - 3s - loss: 0.4406 - acc: 0.8394 - val_loss: 0.1707 - val_acc: 0.9274\n",
      "Epoch 2/6\n",
      "4457/4457 [==============================] - 3s - loss: 0.1791 - acc: 0.9385 - val_loss: 0.1218 - val_acc: 0.9578\n",
      "Epoch 3/6\n",
      "4457/4457 [==============================] - 3s - loss: 0.1355 - acc: 0.9594 - val_loss: 0.0970 - val_acc: 0.9704\n",
      "Epoch 4/6\n",
      "4457/4457 [==============================] - 3s - loss: 0.1098 - acc: 0.9659 - val_loss: 0.0912 - val_acc: 0.9740\n",
      "Epoch 5/6\n",
      "4457/4457 [==============================] - 3s - loss: 0.0827 - acc: 0.9755 - val_loss: 0.0803 - val_acc: 0.9767\n",
      "Epoch 6/6\n",
      "4457/4457 [==============================] - 3s - loss: 0.0719 - acc: 0.9785 - val_loss: 0.0815 - val_acc: 0.9812\n"
     ]
    },
    {
     "data": {
      "text/plain": [
       "<keras.callbacks.History at 0x7f4a4817e780>"
      ]
     },
     "execution_count": 26,
     "metadata": {},
     "output_type": "execute_result"
    }
   ],
   "source": [
    "model.fit(x, y=Y, batch_size=500, epochs=6, verbose=1, validation_split=0.2, shuffle=True)"
   ]
  },
  {
   "cell_type": "code",
   "execution_count": 27,
   "metadata": {},
   "outputs": [
    {
     "name": "stdout",
     "output_type": "stream",
     "text": [
      "5572/5572 [==============================] - 10s    \n"
     ]
    }
   ],
   "source": [
    "scores = model.evaluate(x, Y)"
   ]
  },
  {
   "cell_type": "code",
   "execution_count": 28,
   "metadata": {},
   "outputs": [
    {
     "name": "stdout",
     "output_type": "stream",
     "text": [
      "acc : 98.44 %\n"
     ]
    }
   ],
   "source": [
    "print(model.metrics_names[1] , ':' , round(scores[1]*100, 2), '%')"
   ]
  },
  {
   "cell_type": "code",
   "execution_count": 16,
   "metadata": {},
   "outputs": [
    {
     "name": "stdout",
     "output_type": "stream",
     "text": [
      "Go until jurong point, crazy.. Available only in bugis n great world la e buffet... Cine there got amore wat...\n",
      "[[ 0.00017238]]\n"
     ]
    }
   ],
   "source": [
    "print(X[0])\n",
    "print(model.predict(x[:1]))"
   ]
  },
  {
   "cell_type": "code",
   "execution_count": 42,
   "metadata": {},
   "outputs": [],
   "source": [
    "validation_sms = ['Hello how are you', \n",
    "                  'Pay only Rs 699. Free Thyroid(TSH,T3,T4). Missed Call HealthiansΛ¡ 8287161273']"
   ]
  },
  {
   "cell_type": "code",
   "execution_count": 43,
   "metadata": {},
   "outputs": [],
   "source": [
    "temp = tk.texts_to_sequences(validation_sms)\n",
    "validation_sms_sequence = sequence.pad_sequences(temp, maxlen=max_len)"
   ]
  },
  {
   "cell_type": "code",
   "execution_count": 44,
   "metadata": {},
   "outputs": [
    {
     "data": {
      "text/plain": [
       "array([[ 0.00651973],\n",
       "       [ 0.70757222]], dtype=float32)"
      ]
     },
     "execution_count": 44,
     "metadata": {},
     "output_type": "execute_result"
    }
   ],
   "source": [
    "model.predict(validation_sms_sequence[:len(validation_sms)])"
   ]
  },
  {
   "cell_type": "code",
   "execution_count": null,
   "metadata": {},
   "outputs": [],
   "source": []
  }
 ],
 "metadata": {
  "kernelspec": {
   "display_name": "Python 3",
   "language": "python",
   "name": "python3"
  },
  "language_info": {
   "codemirror_mode": {
    "name": "ipython",
    "version": 3
   },
   "file_extension": ".py",
   "mimetype": "text/x-python",
   "name": "python",
   "nbconvert_exporter": "python",
   "pygments_lexer": "ipython3",
   "version": "3.5.2"
  }
 },
 "nbformat": 4,
 "nbformat_minor": 2
}
